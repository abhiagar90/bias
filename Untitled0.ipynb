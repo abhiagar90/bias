{
 "metadata": {
  "name": ""
 },
 "nbformat": 3,
 "nbformat_minor": 0,
 "worksheets": [
  {
   "cells": [
    {
     "cell_type": "code",
     "collapsed": false,
     "input": [
      "import hashlib\n",
      "ibnlist = [\"http://www.dailypioneer.com/business/consumers-to-brace-up-for-20-increase-in-power-tariff.html\",\n",
      "           \"http://www.dailypioneer.com/todays-newspaper/fm-cautions-moily-over-kg-basin.html\",\n",
      "           \"http://www.dailypioneer.com/nation/kg-basin-row-tapan-sen-seeks-pms-intervention.html\",\n",
      "           \"http://www.dailypioneer.com/todays-newspaper/ram-teri-ganga-moily.html\"]\n",
      "\n",
      "for item in ibnlist:\n",
      "    print item+\"\\n\"+hashlib.md5(item).hexdigest()\n"
     ],
     "language": "python",
     "metadata": {},
     "outputs": [
      {
       "output_type": "stream",
       "stream": "stdout",
       "text": [
        "http://www.dailypioneer.com/business/consumers-to-brace-up-for-20-increase-in-power-tariff.html\n",
        "a8e33c8fc5274c979a76f26d7fb871a6\n",
        "http://www.dailypioneer.com/todays-newspaper/fm-cautions-moily-over-kg-basin.html\n",
        "3f8d3018dc0614d64647eca23a3403cd\n",
        "http://www.dailypioneer.com/nation/kg-basin-row-tapan-sen-seeks-pms-intervention.html\n",
        "0f101698c418bf6168aba272b8cd4c5b\n",
        "http://www.dailypioneer.com/todays-newspaper/ram-teri-ganga-moily.html\n",
        "ec13b430c13fc06ff28e978ea55be17f\n"
       ]
      }
     ],
     "prompt_number": 3
    }
   ],
   "metadata": {}
  }
 ]
}