{
 "metadata": {
  "name": "",
  "signature": "sha256:fd40af0dd5d27f3e51a9c9d7c404435b182cfa47eeeafb4f01f064185b853770"
 },
 "nbformat": 3,
 "nbformat_minor": 0,
 "worksheets": [
  {
   "cells": [
    {
     "cell_type": "code",
     "collapsed": false,
     "input": [
      "##\n",
      "# all queries are being run on : https://www.google.co.in/#hl=en&gl=in&as_drrb=b&authuser=0&tbs=cdr:1%2Ccd_min:11%2F01%2F2010%2Ccd_max:01%2F03%2F2012&tbm=nws&q=2g+spectrum+scam+inurl:%22thehindu.com%22\n",
      "# also, daterange is from nov 2010 to march 2012\n",
      "##"
     ],
     "language": "python",
     "metadata": {},
     "outputs": []
    },
    {
     "cell_type": "code",
     "collapsed": false,
     "input": [
      "from bs4 import BeautifulSoup\n",
      "import os\n",
      "import sys\n",
      "import hashlib\n",
      "\n",
      "if sys.version_info[0] > 2:\n",
      "    from urllib.parse import urlparse, parse_qs\n",
      "else:\n",
      "    from urlparse import urlparse, parse_qs"
     ],
     "language": "python",
     "metadata": {},
     "outputs": []
    },
    {
     "cell_type": "code",
     "collapsed": false,
     "input": [
      "# Filter links found in the Google result pages HTML code.\n",
      "# Returns None if the link doesn't yield a valid result.\n",
      "def filter_result(link):\n",
      "    try:\n",
      "\n",
      "        # Valid results are absolute URLs not pointing to a Google domain\n",
      "        # like images.google.com or googleusercontent.com\n",
      "        o = urlparse(link, 'http')\n",
      "        if o.netloc and 'google' not in o.netloc:\n",
      "            return link\n",
      "\n",
      "        # Decode hidden URLs.\n",
      "        if link.startswith('/url?'):\n",
      "            link = parse_qs(o.query)['q'][0]\n",
      "\n",
      "            # Valid results are absolute URLs not pointing to a Google domain\n",
      "            # like images.google.com or googleusercontent.com\n",
      "            o = urlparse(link, 'http')\n",
      "            if o.netloc and 'google' not in o.netloc:\n",
      "                return link\n",
      "\n",
      "    # Otherwise, or on error, return None.\n",
      "    except Exception:\n",
      "        pass\n",
      "    return None"
     ],
     "language": "python",
     "metadata": {},
     "outputs": []
    },
    {
     "cell_type": "code",
     "collapsed": false,
     "input": [
      "def somefn(filename):\n",
      "    only_standard = True\n",
      "    hashes = set() ## contains a number! ##can be md5hashtoo!\n",
      "    html = open(filename,'r')\n",
      "    soup = BeautifulSoup(html,\"lxml\")\n",
      "    anchors = soup.find(id='search').findAll('a')\n",
      "\n",
      "    #current position\n",
      "    currpos = 0\n",
      "    \n",
      "    for a in anchors:\n",
      "\n",
      "        # Leave only the \"standard\" results if requested.\n",
      "        # Otherwise grab all possible links.\n",
      "        if only_standard and (\n",
      "                    not a.parent or a.parent.name.lower() != \"h3\"):\n",
      "            continue\n",
      "\n",
      "        # Get the URL from the anchor tag.\n",
      "        try:\n",
      "            link = a['href']\n",
      "        except KeyError:\n",
      "            continue\n",
      "\n",
      "        # Filter invalid links and links pointing to Google itself.\n",
      "        link = filter_result(link)\n",
      "        if not link:\n",
      "            continue\n",
      "            \n",
      "        currpos= currpos + 1\n",
      "\n",
      "        # Discard repeated results.\n",
      "        # h = hash(link)\n",
      "        # if h in hashes:\n",
      "        #    continue\n",
      "        # hashes.add(h)\n",
      "\n",
      "        # Yield the result.\n",
      "        yield link,currpos\n",
      "#for x in somefn():\n",
      "#    print x"
     ],
     "language": "python",
     "metadata": {},
     "outputs": []
    },
    {
     "cell_type": "code",
     "collapsed": false,
     "input": [
      "def call_me(sourcefolder, sourcename, sourceid, sourcehomepage, typeofpaper):\n",
      "    thehidustantimes = ['/opinion/','/opinions/','/analysis/','/column/','/columns/','/editorial/','/editorials/','/blog/','/blogs/']\n",
      "    thehindu = ['/op-ed/','/letter/','/letters/','/Readers-Editor/','/open-page/']\n",
      "    thetimesofindia = ['/toi-edit-page/','/toi-editorials/','blog.','blogs.']\n",
      "    theindianexpress= ['/letters-to-editor/']\n",
      "    deccanchronicle = ['/commentary-op-ed/']\n",
      "    tribune = ['/perspective/','/sunday-special/','/sunday/']\n",
      "    opinion_diff = thehindu + thehidustantimes + thetimesofindia + theindianexpress + deccanchronicle + tribune\n",
      "    \n",
      "    #print len(opinion_diff)\n",
      "    \n",
      "    \n",
      "    files = os.listdir(sourcefolder)\n",
      "    allindex = 1\n",
      "    delimiter = ','\n",
      "    hashes = set()\n",
      "    header = 'index' + delimiter + 'sourceid'+ delimiter + 'pagenumber' + delimiter + 'pos_on_page';\n",
      "    header = header + delimiter + 'exact_url' + delimiter + 'hash_url' + delimiter + 'opinion_section'\n",
      "    tocsv = header\n",
      "    #print header\n",
      "    for htmlfile in files:\n",
      "        if htmlfile.find('.html')!=-1:\n",
      "            pagenumber = htmlfile[:htmlfile.find('.')]\n",
      "            pagenumber = pagenumber.strip()\n",
      "            for someurl, somepos in somefn(sourcefolder+htmlfile):\n",
      "                h = hash(someurl)\n",
      "                if h in hashes:\n",
      "                    continue\n",
      "                hashes.add(h)\n",
      "                \n",
      "                opinionated = 'No'\n",
      "                for op_text in opinion_diff:\n",
      "                    if (someurl.lower()).find(op_text)!=-1:\n",
      "                        opinionated = 'Yes'\n",
      "                        break\n",
      "            \n",
      "                \n",
      "                newline = str(allindex) + delimiter + sourceid+ delimiter + str(pagenumber) + delimiter + str(somepos);\n",
      "                newline = newline + delimiter + someurl + delimiter + hashlib.md5(someurl).hexdigest() + delimiter + opinionated;\n",
      "                #print newline\n",
      "                tocsv = tocsv + '\\n' + newline\n",
      "                allindex = allindex + 1\n",
      "    #print tocsv\n",
      "    tocsvfile = open('csvs_2g/'+str(sourceid)+'_2G.csv','w')\n",
      "    tocsvfile.write(tocsv)\n",
      "    tocsvfile.close()\n",
      "    print 'done'"
     ],
     "language": "python",
     "metadata": {},
     "outputs": [],
     "prompt_number": 15
    },
    {
     "cell_type": "code",
     "collapsed": false,
     "input": [
      "sourcefolder = '2g_scam/hindustan_times/'\n",
      "sourcename = 'The Hindustan Times'\n",
      "sourceid = '1'\n",
      "sourcehomepage = 'hindustantimes.com'\n",
      "typeofpaper='National Regular Daily'\n",
      "call_me(sourcefolder, sourcename, sourceid, sourcehomepage, typeofpaper)"
     ],
     "language": "python",
     "metadata": {},
     "outputs": []
    },
    {
     "cell_type": "code",
     "collapsed": false,
     "input": [
      "sourcefolder = '2g_scam/the_hindu/'\n",
      "sourcename = 'The Hindu'\n",
      "sourceid = '2'\n",
      "sourcehomepage = 'http://www.thehindu.com/'\n",
      "typeofpaper='National Regular Daily'\n",
      "call_me(sourcefolder, sourcename, sourceid, sourcehomepage, typeofpaper)\n",
      "##url:\n",
      "## https://www.google.co.in/#q=2g+spectrum+scam+inurl:%22thehindu.com%22&hl=en&gl=in&as_drrb=b&authuser=0&tbs=cdr:1,cd_min:11/01/2010,cd_max:01/03/2012&tbm=nws&start=0"
     ],
     "language": "python",
     "metadata": {},
     "outputs": []
    },
    {
     "cell_type": "code",
     "collapsed": false,
     "input": [
      "sourcefolder = '2g_scam/the_economic_times/'\n",
      "sourcename = 'The Economic Times'\n",
      "sourceid = '3'\n",
      "sourcehomepage = 'economictimes.indiatimes.com'\n",
      "typeofpaper='National Financial Daily'\n",
      "##url: https://www.google.co.in/search?q=2g+spectrum+scam+inurl:%22economictimes.indiatimes.com%22&hl=en&gl=in&as_drrb=b&authuser=0&biw=1855&bih=959&noj=1&tbs=cdr:1,cd_min:11/01/2010,cd_max:01/03/2012&tbm=nws&ei=Lq8oV6uKKMPQ0ATZ9I7YAg&start=0&sa=N&dpr=1\n",
      "call_me(sourcefolder, sourcename, sourceid, sourcehomepage, typeofpaper)"
     ],
     "language": "python",
     "metadata": {},
     "outputs": []
    },
    {
     "cell_type": "code",
     "collapsed": false,
     "input": [
      "sourcefolder = '2g_scam/times_of_india/'\n",
      "sourcename = 'The Times of India'\n",
      "sourceid = '4'\n",
      "sourcehomepage = 'timesofindia.indiatimes.com'\n",
      "typeofpaper='National Regular Daily'\n",
      "## https://www.google.co.in/search?hl=en&gl=in&as_drrb=b&authuser=0&biw=1855&bih=959&noj=1&tbs=cdr%3A1%2Ccd_min%3A11%2F01%2F2010%2Ccd_max%3A01%2F03%2F2012&tbm=nws&q=2g+spectrum+scam+inurl%3A%22timesofindia.indiatimes.com%22&oq=2g+spectrum+scam+inurl%3A%22timesofindia.indiatimes.com%22&gs_l=serp.3...3397.11607.0.12182.2.2.0.0.0.0.173.319.0j2.2.0....0...1c.1.64.serp..0.0.0.Vp5Pl-jDyQk\n",
      "call_me(sourcefolder, sourcename, sourceid, sourcehomepage, typeofpaper)"
     ],
     "language": "python",
     "metadata": {},
     "outputs": [
      {
       "output_type": "stream",
       "stream": "stdout",
       "text": [
        "done\n"
       ]
      }
     ],
     "prompt_number": 16
    },
    {
     "cell_type": "code",
     "collapsed": false,
     "input": [
      "sourcefolder = '2g_scam/the_indian_express/'\n",
      "sourcename = 'The Indian Express'\n",
      "sourceid = '5'\n",
      "sourcehomepage = 'indianexpress.com'\n",
      "typeofpaper='National Regular Daily'\n",
      "## https://www.google.co.in/search?q=2g+spectrum+scam+inurl:%22indianexpress.com%22&hl=en&gl=in&as_drrb=b&authuser=0&biw=1855&bih=959&noj=1&tbs=cdr:1,cd_min:11/01/2010,cd_max:01/03/2012&tbm=nws&ei=TbUoV-VKh5XSBJjanfgM&start=40&sa=N&dpr=1\n",
      "call_me(sourcefolder, sourcename, sourceid, sourcehomepage, typeofpaper)"
     ],
     "language": "python",
     "metadata": {},
     "outputs": [
      {
       "output_type": "stream",
       "stream": "stdout",
       "text": [
        "done\n"
       ]
      }
     ],
     "prompt_number": 17
    },
    {
     "cell_type": "code",
     "collapsed": false,
     "input": [
      "sourcefolder = 'reliance_natural_gas/dna/'\n",
      "sourcename = 'DNA'\n",
      "sourceid = '6'\n",
      "sourcehomepage = 'dnaindia.com'\n",
      "typeofpaper='National Regular Daily'\n",
      "##https://www.google.co.in/search?hl=en&gl=in&as_drrb=b&authuser=0&biw=1855&bih=959&noj=1&tbs=cdr%3A1%2Ccd_min%3A11%2F01%2F2010%2Ccd_max%3A01%2F03%2F2012&tbm=nws&q=2g+spectrum+scam+inurl%3A%22dnaindia.com%22&oq=2g+spectrum+scam+inurl%3A%22dnaindia.com%22&gs_l=serp.3...7624.9950.0.10286.18.11.0.0.0.0.170.987.2j7.9.0....0...1c.1.64.serp..11.0.0.Nn1h85E2emI\n",
      "call_me(sourcefolder, sourcename, sourceid, sourcehomepage, typeofpaper)"
     ],
     "language": "python",
     "metadata": {},
     "outputs": [
      {
       "output_type": "stream",
       "stream": "stdout",
       "text": [
        "done\n"
       ]
      }
     ],
     "prompt_number": 18
    },
    {
     "cell_type": "code",
     "collapsed": false,
     "input": [
      "sourcefolder = 'reliance_natural_gas/business_standard/'\n",
      "sourcename = 'Business Standard'\n",
      "sourceid = '7'\n",
      "sourcehomepage = 'business-standard.com'\n",
      "typeofpaper='National Financial Daily'\n",
      "## https://www.google.co.in/search?hl=en&gl=in&as_drrb=b&authuser=0&biw=1855&bih=959&noj=1&tbs=cdr%3A1%2Ccd_min%3A11%2F01%2F2010%2Ccd_max%3A01%2F03%2F2012&tbm=nws&q=2g+spectrum+scam+inurl%3A%22business-standard.com%22&oq=2g+spectrum+scam+inurl%3A%22business-standard.com%22&gs_l=serp.3...39037.40861.0.41227.13.9.0.0.0.0.194.996.2j6.8.0....0...1c.1.64.serp..8.0.0.f3a49m9Je00\n",
      "call_me(sourcefolder, sourcename, sourceid, sourcehomepage, typeofpaper)"
     ],
     "language": "python",
     "metadata": {},
     "outputs": [
      {
       "output_type": "stream",
       "stream": "stdout",
       "text": [
        "done\n"
       ]
      }
     ],
     "prompt_number": 20
    },
    {
     "cell_type": "code",
     "collapsed": false,
     "input": [
      "sourcefolder = 'reliance_natural_gas/deccan_chronicle/'\n",
      "sourcename = 'Deccan Chronicle'\n",
      "sourceid = '8'\n",
      "sourcehomepage = 'deccanchronicle.com'\n",
      "typeofpaper='Regional Regular Daily'\n",
      "## https://www.google.co.in/search?hl=en&gl=in&as_drrb=b&authuser=0&biw=1855&bih=959&noj=1&tbs=cdr%3A1%2Ccd_min%3A11%2F01%2F2010%2Ccd_max%3A01%2F03%2F2012&tbm=nws&q=2g+spectrum+scam+inurl%3A%22deccanchronicle.com%22&oq=2g+spectrum+scam+inurl%3A%22deccanchronicle.com%22&gs_l=serp.3...3920.14425.0.15333.14.8.6.0.0.0.138.899.1j7.8.0....0...1c.1.64.serp..0.0.0.d9J9zyL7rJY\n",
      "call_me(sourcefolder, sourcename, sourceid, sourcehomepage, typeofpaper)"
     ],
     "language": "python",
     "metadata": {},
     "outputs": [
      {
       "output_type": "stream",
       "stream": "stdout",
       "text": [
        "done\n"
       ]
      }
     ],
     "prompt_number": 21
    },
    {
     "cell_type": "code",
     "collapsed": false,
     "input": [
      "sourcefolder = 'reliance_natural_gas/telegraph/'\n",
      "sourcename = 'Telegraph'\n",
      "sourceid = '9'\n",
      "sourcehomepage = 'telegraphindia.com'\n",
      "typeofpaper='Regional Regular Daily'\n",
      "## https://www.google.co.in/search?q=2g+spectrum+scam+inurl:%22telegraphindia.com%22&hl=en&gl=in&as_drrb=b&authuser=0&biw=1855&bih=959&noj=1&tbs=cdr:1,cd_min:11/01/2010,cd_max:01/03/2012&tbm=nws&ei=ubkoV4b_OsaY0gSGzIuYDg&start=20&sa=N&dpr=1\n",
      "call_me(sourcefolder, sourcename, sourceid, sourcehomepage, typeofpaper)"
     ],
     "language": "python",
     "metadata": {},
     "outputs": []
    },
    {
     "cell_type": "code",
     "collapsed": false,
     "input": [
      "sourcefolder = 'reliance_natural_gas/pioneer/'\n",
      "sourcename = 'Daily Pioneer'\n",
      "sourceid = '10'\n",
      "sourcehomepage = 'dailypioneer.com'\n",
      "typeofpaper='Regional Regular Daily'"
     ],
     "language": "python",
     "metadata": {},
     "outputs": []
    },
    {
     "cell_type": "code",
     "collapsed": false,
     "input": [
      "sourcefolder = 'reliance_natural_gas/new_indian_express/'\n",
      "sourcename = 'New Indian Express'\n",
      "sourceid = '11'\n",
      "sourcehomepage = 'newindianexpress.com'\n",
      "typeofpaper='Regional Regular Daily'"
     ],
     "language": "python",
     "metadata": {},
     "outputs": []
    },
    {
     "cell_type": "code",
     "collapsed": false,
     "input": [
      "sourcefolder = 'reliance_natural_gas/tribuneindia/'\n",
      "sourcename = 'Tribune'\n",
      "sourceid = '12'\n",
      "sourcehomepage = 'tribuneindia.com'\n",
      "typeofpaper='Regional Regular Daily'"
     ],
     "language": "python",
     "metadata": {},
     "outputs": []
    },
    {
     "cell_type": "code",
     "collapsed": false,
     "input": [
      "sourcefolder = 'reliance_natural_gas/livemint/'\n",
      "sourcename = 'Live Mint'\n",
      "sourceid = '13'\n",
      "sourcehomepage = 'livemint.com'\n",
      "typeofpaper='Online Regular'"
     ],
     "language": "python",
     "metadata": {},
     "outputs": []
    },
    {
     "cell_type": "code",
     "collapsed": false,
     "input": [
      "sourcefolder = 'reliance_natural_gas/firstpost/'\n",
      "sourcename = 'First Post'\n",
      "sourceid = '14'\n",
      "sourcehomepage = 'firstpost.com'\n",
      "typeofpaper='Online Regular'"
     ],
     "language": "python",
     "metadata": {},
     "outputs": []
    },
    {
     "cell_type": "code",
     "collapsed": false,
     "input": [
      "sourcefolder = 'reliance_natural_gas/ndtv/'\n",
      "sourcename = 'NDTV'\n",
      "sourceid = '15'\n",
      "sourcehomepage = 'ndtv.com'\n",
      "typeofpaper='News Channel'"
     ],
     "language": "python",
     "metadata": {},
     "outputs": []
    },
    {
     "cell_type": "code",
     "collapsed": false,
     "input": [
      "sourcefolder = 'reliance_natural_gas/zeenews/'\n",
      "sourcename = 'Zee News'\n",
      "sourceid = '16'\n",
      "sourcehomepage = 'zeenews.com'\n",
      "typeofpaper='News Channel'"
     ],
     "language": "python",
     "metadata": {},
     "outputs": []
    },
    {
     "cell_type": "code",
     "collapsed": false,
     "input": [
      "sourcefolder = 'reliance_natural_gas/moneycontrol/'\n",
      "sourcename = 'Money Control'\n",
      "sourceid = '17'\n",
      "sourcehomepage = 'moneycontrol.com'\n",
      "typeofpaper='Online Financial'"
     ],
     "language": "python",
     "metadata": {},
     "outputs": []
    },
    {
     "cell_type": "code",
     "collapsed": false,
     "input": [
      "sourcefolder = 'reliance_natural_gas/ibnlive/'\n",
      "sourcename = 'IBN Live'\n",
      "sourceid = '18'\n",
      "sourcehomepage = 'ibnlive.com'\n",
      "typeofpaper='News Channel'"
     ],
     "language": "python",
     "metadata": {},
     "outputs": []
    }
   ],
   "metadata": {}
  }
 ]
}