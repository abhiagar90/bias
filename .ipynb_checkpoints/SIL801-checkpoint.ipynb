{
 "metadata": {
  "name": "",
  "signature": "sha256:fd40af0dd5d27f3e51a9c9d7c404435b182cfa47eeeafb4f01f064185b853770"
 },
 "nbformat": 3,
 "nbformat_minor": 0,
 "worksheets": [
  {
   "cells": [
    {
     "cell_type": "code",
     "collapsed": false,
     "input": [
      "##\n",
      "# all queries are being run on : allintext: (Reliance  AND Industries) AND natural gas AND price site:www.hindustantimes.com/\n",
      "# also, daterange is from jan 2013 to dec 2014\n",
      "##"
     ],
     "language": "python",
     "metadata": {},
     "outputs": [],
     "prompt_number": 11
    },
    {
     "cell_type": "code",
     "collapsed": false,
     "input": [
      "from bs4 import BeautifulSoup\n",
      "import os\n",
      "import sys\n",
      "import hashlib\n",
      "\n",
      "if sys.version_info[0] > 2:\n",
      "    from urllib.parse import urlparse, parse_qs\n",
      "else:\n",
      "    from urlparse import urlparse, parse_qs"
     ],
     "language": "python",
     "metadata": {},
     "outputs": [],
     "prompt_number": 58
    },
    {
     "cell_type": "code",
     "collapsed": false,
     "input": [
      "# Filter links found in the Google result pages HTML code.\n",
      "# Returns None if the link doesn't yield a valid result.\n",
      "def filter_result(link):\n",
      "    try:\n",
      "\n",
      "        # Valid results are absolute URLs not pointing to a Google domain\n",
      "        # like images.google.com or googleusercontent.com\n",
      "        o = urlparse(link, 'http')\n",
      "        if o.netloc and 'google' not in o.netloc:\n",
      "            return link\n",
      "\n",
      "        # Decode hidden URLs.\n",
      "        if link.startswith('/url?'):\n",
      "            link = parse_qs(o.query)['q'][0]\n",
      "\n",
      "            # Valid results are absolute URLs not pointing to a Google domain\n",
      "            # like images.google.com or googleusercontent.com\n",
      "            o = urlparse(link, 'http')\n",
      "            if o.netloc and 'google' not in o.netloc:\n",
      "                return link\n",
      "\n",
      "    # Otherwise, or on error, return None.\n",
      "    except Exception:\n",
      "        pass\n",
      "    return None"
     ],
     "language": "python",
     "metadata": {},
     "outputs": [],
     "prompt_number": 59
    },
    {
     "cell_type": "code",
     "collapsed": false,
     "input": [
      "def somefn(filename):\n",
      "    only_standard = True\n",
      "    hashes = set() ## contains a number! ##can be md5hashtoo!\n",
      "    html = open(filename,'r')\n",
      "    soup = BeautifulSoup(html,\"lxml\")\n",
      "    anchors = soup.find(id='search').findAll('a')\n",
      "\n",
      "    #current position\n",
      "    currpos = 0\n",
      "    \n",
      "    for a in anchors:\n",
      "\n",
      "        # Leave only the \"standard\" results if requested.\n",
      "        # Otherwise grab all possible links.\n",
      "        if only_standard and (\n",
      "                    not a.parent or a.parent.name.lower() != \"h3\"):\n",
      "            continue\n",
      "\n",
      "        # Get the URL from the anchor tag.\n",
      "        try:\n",
      "            link = a['href']\n",
      "        except KeyError:\n",
      "            continue\n",
      "\n",
      "        # Filter invalid links and links pointing to Google itself.\n",
      "        link = filter_result(link)\n",
      "        if not link:\n",
      "            continue\n",
      "            \n",
      "        currpos= currpos + 1\n",
      "\n",
      "        # Discard repeated results.\n",
      "        # h = hash(link)\n",
      "        # if h in hashes:\n",
      "        #    continue\n",
      "        # hashes.add(h)\n",
      "\n",
      "        # Yield the result.\n",
      "        yield link,currpos\n",
      "#for x in somefn():\n",
      "#    print x"
     ],
     "language": "python",
     "metadata": {},
     "outputs": [],
     "prompt_number": 60
    },
    {
     "cell_type": "code",
     "collapsed": false,
     "input": [
      "#def main():\n",
      "sourcefolder = 'reliance_natural_gas/deccan_chronicle/'\n",
      "sourcename = 'Deccan Chronicle'\n",
      "sourceid = '8'\n",
      "sourcehomepage = 'deccanchronicle.com'\n",
      "\n",
      "\n",
      "thehidustantimes = ['/opinion/','/opinions/','/analysis/','/column/','/columns/','/editorial/','/editorials/','/blog/','/blogs/']\n",
      "thehindu = ['/op-ed/','/letter/','/letters/','/Readers-Editor/','/open-page/']\n",
      "thetimesofindia = ['/toi-edit-page/','/toi-editorials/','blog.','blogs.']\n",
      "theindianexpress= ['/letters-to-editor/']\n",
      "deccanchronicle = ['/commentary-op-ed/']\n",
      "opinion_diff = thehindu + thehidustantimes + thetimesofindia + theindianexpress + deccanchronicle\n",
      "print len(opinion_diff)\n",
      "\n",
      "\n",
      "files = os.listdir(sourcefolder)\n",
      "allindex = 1\n",
      "delimiter = ','\n",
      "hashes = set()\n",
      "header = 'index' + delimiter + 'sourceid'+ delimiter + 'pagenumber' + delimiter + 'pos_on_page';\n",
      "header = header + delimiter + 'exact_url' + delimiter + 'hash_url' + delimiter + 'opinion_section'\n",
      "tocsv = header\n",
      "#print header\n",
      "for htmlfile in files:\n",
      "    if htmlfile.find('.html')!=-1:\n",
      "        pagenumber = htmlfile[:htmlfile.find('.')]\n",
      "        pagenumber = pagenumber.strip()\n",
      "        for someurl, somepos in somefn(sourcefolder+htmlfile):\n",
      "            h = hash(someurl)\n",
      "            if h in hashes:\n",
      "                continue\n",
      "            hashes.add(h)\n",
      "            \n",
      "            opinionated = 'No'\n",
      "            for op_text in opinion_diff:\n",
      "                if someurl.find(op_text)!=-1:\n",
      "                    opinionated = 'Yes'\n",
      "                    break\n",
      "        \n",
      "            \n",
      "            newline = str(allindex) + delimiter + sourceid+ delimiter + str(pagenumber) + delimiter + str(somepos);\n",
      "            newline = newline + delimiter + someurl + delimiter + hashlib.md5(someurl).hexdigest() + delimiter + opinionated;\n",
      "            #print newline\n",
      "            tocsv = tocsv + '\\n' + newline\n",
      "            allindex = allindex + 1\n",
      "print tocsv\n",
      "tocsvfile = open(str(sourceid)+'.csv','w')\n",
      "tocsvfile.write(tocsv)\n",
      "tocsvfile.close()"
     ],
     "language": "python",
     "metadata": {},
     "outputs": [
      {
       "output_type": "stream",
       "stream": "stdout",
       "text": [
        "19\n",
        "index,sourceid,pagenumber,pos_on_page,exact_url,hash_url,opinion_section\n",
        "1,8,1,1,http://www.deccanchronicle.com/141019/nation-current-affairs/article/reliance-industries-will-get-old-gas-price,20521e7722640eb0872c2b8866a8f5da,No\n",
        "2,8,1,2,http://www.deccanchronicle.com/140325/nation-current-affairs/article/arvind-kejriwal-wins-election-commission-defers-gas-hike,f121fe02074426ef8c22fcf1ed31e87b,No\n",
        "3,8,1,3,http://www.deccanchronicle.com/140211/news-politics/article/delhi-govt-orders-criminal-cases-against-union-minister-moily,0f77e931cf859bdba0c02f44fe701129,No\n",
        "4,8,1,4,http://www.deccanchronicle.com/140924/business-latest/article/cabinet-postpones-revision-gas-prices-three-months,747a9586295e450f24c1701d5ccac42d,No\n",
        "5,8,1,5,http://www.deccanchronicle.com/141015/business-latest/article/reliance-india-ltd-funds-only-gas-price-hike,e055e0fd97861be9635466b2db59d154,No\n",
        "6,8,1,6,http://www.deccanchronicle.com/140406/nation-politics/article/aap-slams-solicitor-generals-stand-reliance-gas-pricing,e39aa9dba878dea5350a3b5c94d89bc8,No\n",
        "7,8,1,7,http://www.deccanchronicle.com/140825/business-companies/article/ril-ongc-bp-cairn-demand-immediate-hike-natural-gas-price,d91bd4a3ae714d53c09ef129095df81c,No\n",
        "8,8,1,8,http://www.deccanchronicle.com/140715/nation-current-affairs/article/reliance-fined-579-million-producing-less-gas-targeted-kg,ea439508f87ce74ad8b52675aa7468ee,No\n",
        "9,8,1,9,http://www.deccanchronicle.com/140926/business-economics/article/indias-older-refineries-face-survival-test-diesel-deregulation,41095904357303bb7e49838c6521460c,No\n",
        "10,8,1,10,http://www.deccanchronicle.com/140610/business-latest/article/gas-price-hike-balance-reforms-interest-poor-oil-minister,644a9b0125fa39185fe20420c5e58bf2,No\n",
        "11,8,2,1,http://www.deccanchronicle.com/140225/news-current-affairs/article/ril-refutes-aap-allegations-against-company-mukesh-ambani,2fec24e4652899fe5ca491ef1db51e4c,No\n",
        "12,8,2,2,http://www.deccanchronicle.com/131127/news-businesstech/article/cabinet-decide-capping-natural-gas-price-hike,84ad0607d32539b1fafaf868ab2143ed,No\n",
        "13,8,2,3,http://www.deccanchronicle.com/140417/business-economics/article/share-lng-indias-gas-mix-may-rise-38-pc-goldman,b49dbb4eccc8bf8150a3d19160d393d1,No\n",
        "14,8,2,4,http://www.deccanchronicle.com/140626/business-latest/article/reliance-industries-limited-faces-578m-penalty,ccad1c5bfc38efc38458868d62685281,No\n",
        "15,8,2,5,http://www.deccanchronicle.com/141223/business-companies/article/gail-pay-royalty-ril-gas-price,a759b728cec75d4536b5c1f4517d2b4d,No\n",
        "16,8,2,6,http://www.deccanchronicle.com/140430/business-companies/article/supreme-court-appoints-new-arbitrator-resolve-dispute-between,154d01a413c3f485375edc34746f596a,No\n",
        "17,8,2,7,http://www.deccanchronicle.com/140902/business-market/article/ongc-blames-directorate-general-hydrocarbons,bc9ae635381d67571acb8e8d8591485a,No\n",
        "18,8,2,8,http://www.deccanchronicle.com/140408/business-companies/article/oil-regulator-seeks-consultants-set-ril-marketing-margin,c02a0f20ebd3fc23e5a7fabcd50ffffb,No\n",
        "19,8,2,9,http://www.deccanchronicle.com/140819/business-latest/article/setback-oil-ministry-gail-cpcl-refuse-comply-kg-d6-order,7df525d07b963938d42b4d3434097598,No\n",
        "20,8,2,10,http://www.deccanchronicle.com/140603/commentary-op-ed/article/polinomics-unique-dispute,aefab10d96eb4fecc0e967fe4fce4a00,No\n",
        "21,8,3,1,http://www.deccanchronicle.com/140519/business-latest/article/gujarat-state-petroleum-corp-may-begin-kg-basin-output,4ce394ff7c0f6a12e4cc8893e2f66eaa,No\n",
        "22,8,3,2,http://www.deccanchronicle.com/140610/nation-current-affairs/article/power-crisis-government-divert-gas-dabhol-plant-delhi,4be15281c058066ba339ad7c8f9b751b,No\n",
        "23,8,3,3,http://www.deccanchronicle.com/140219/news-current-affairs/article/will-kejriwals-exit-provide-breathing-space-ambani-brothers,77556b077943b1dead0ed7ecc357d4f6,No\n",
        "24,8,3,4,http://www.deccanchronicle.com/140321/business-companies/article/axis-bank-surges-ril-falls-ftse-adjustment,67aec492c720f11794fa9c1b82f80fc9,No\n",
        "25,8,3,5,http://www.deccanchronicle.com/141022/nation-current-affairs/article/proposed-gas-pipeline-hits-roadblock,e0eed32101fc9506151f07a3e725abdf,No\n",
        "26,8,3,6,http://www.deccanchronicle.com/140317/business-companies/article/dgh-backs-ongc-demand-appointing-expert-kg-basin-issue,e267c6f62c5ec09e351d48978761e3cf,No"
       ]
      },
      {
       "output_type": "stream",
       "stream": "stdout",
       "text": [
        "\n"
       ]
      }
     ],
     "prompt_number": 82
    },
    {
     "cell_type": "code",
     "collapsed": false,
     "input": [
      "sourcefolder = 'reliance_natural_gas/hindustan_times/'\n",
      "sourcename = 'The Hindustan Times'\n",
      "sourceid = '1'\n",
      "sourcehomepage = 'http://www.hindustantimes.com/'"
     ],
     "language": "python",
     "metadata": {},
     "outputs": []
    },
    {
     "cell_type": "code",
     "collapsed": false,
     "input": [
      "sourcefolder = 'reliance_natural_gas/the_hindu/'\n",
      "sourcename = 'The Hindu'\n",
      "sourceid = '2'\n",
      "sourcehomepage = 'http://www.thehindu.com/'"
     ],
     "language": "python",
     "metadata": {},
     "outputs": []
    },
    {
     "cell_type": "code",
     "collapsed": false,
     "input": [
      "sourcefolder = 'reliance_natural_gas/the_economic_times/'\n",
      "sourcename = 'The Economic Times'\n",
      "sourceid = '3'\n",
      "sourcehomepage = 'economictimes.indiatimes.com'\n",
      "##found this separately: http://blogs.economictimes.indiatimes.com/YieldCurve/what-crony-capitalism-this-modi-govt-is-taking-on-big-business/\n",
      "##doesn't cathc this: http://blogs.economictimes.indiatimes.com/cursor/governments-measures-on-diesel-gas-prices-welcome-but-insufficient/"
     ],
     "language": "python",
     "metadata": {},
     "outputs": []
    },
    {
     "cell_type": "code",
     "collapsed": false,
     "input": [
      "sourcefolder = 'reliance_natural_gas/times_of_india/'\n",
      "sourcename = 'The Times of India'\n",
      "sourceid = '4'\n",
      "sourcehomepage = 'timesofindia.indiatimes.com'"
     ],
     "language": "python",
     "metadata": {},
     "outputs": [
      {
       "metadata": {},
       "output_type": "pyout",
       "prompt_number": 57,
       "text": [
        "'f589a6959f3e04037eb2b3eb0ff726ac'"
       ]
      }
     ],
     "prompt_number": 57
    },
    {
     "cell_type": "code",
     "collapsed": false,
     "input": [
      "sourcefolder = 'reliance_natural_gas/the_indian_express//'\n",
      "sourcename = 'The Indian Express'\n",
      "sourceid = '5'\n",
      "sourcehomepage = 'indianexpress.com'"
     ],
     "language": "python",
     "metadata": {},
     "outputs": []
    },
    {
     "cell_type": "code",
     "collapsed": false,
     "input": [
      "sourcefolder = 'reliance_natural_gas/dna/'\n",
      "sourcename = 'DNA'\n",
      "sourceid = '6'\n",
      "sourcehomepage = 'dnaindia.com'"
     ],
     "language": "python",
     "metadata": {},
     "outputs": []
    },
    {
     "cell_type": "code",
     "collapsed": false,
     "input": [
      "sourcefolder = 'reliance_natural_gas/business_standard/'\n",
      "sourcename = 'Business Standard'\n",
      "sourceid = '7'\n",
      "sourcehomepage = 'business-standard.com'"
     ],
     "language": "python",
     "metadata": {},
     "outputs": []
    },
    {
     "cell_type": "code",
     "collapsed": false,
     "input": [
      "sourcefolder = 'reliance_natural_gas/deccan_chronicle/'\n",
      "sourcename = 'Deccan Chronicle'\n",
      "sourceid = '8'\n",
      "sourcehomepage = 'deccanchronicle.com'"
     ],
     "language": "python",
     "metadata": {},
     "outputs": []
    }
   ],
   "metadata": {}
  }
 ]
}