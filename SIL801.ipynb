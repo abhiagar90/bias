{
 "metadata": {
  "name": "",
  "signature": "sha256:fd40af0dd5d27f3e51a9c9d7c404435b182cfa47eeeafb4f01f064185b853770"
 },
 "nbformat": 3,
 "nbformat_minor": 0,
 "worksheets": [
  {
   "cells": [
    {
     "cell_type": "code",
     "collapsed": false,
     "input": [
      "##\n",
      "# all queries are being run on : allintext: (Reliance  AND Industries) AND natural gas AND price site:www.hindustantimes.com/\n",
      "# also, daterange is from jan 2013 to dec 2014\n",
      "##"
     ],
     "language": "python",
     "metadata": {},
     "outputs": []
    },
    {
     "cell_type": "code",
     "collapsed": false,
     "input": [
      "from bs4 import BeautifulSoup\n",
      "import os\n",
      "import sys\n",
      "import hashlib\n",
      "\n",
      "if sys.version_info[0] > 2:\n",
      "    from urllib.parse import urlparse, parse_qs\n",
      "else:\n",
      "    from urlparse import urlparse, parse_qs"
     ],
     "language": "python",
     "metadata": {},
     "outputs": []
    },
    {
     "cell_type": "code",
     "collapsed": false,
     "input": [
      "# Filter links found in the Google result pages HTML code.\n",
      "# Returns None if the link doesn't yield a valid result.\n",
      "def filter_result(link):\n",
      "    try:\n",
      "\n",
      "        # Valid results are absolute URLs not pointing to a Google domain\n",
      "        # like images.google.com or googleusercontent.com\n",
      "        o = urlparse(link, 'http')\n",
      "        if o.netloc and 'google' not in o.netloc:\n",
      "            return link\n",
      "\n",
      "        # Decode hidden URLs.\n",
      "        if link.startswith('/url?'):\n",
      "            link = parse_qs(o.query)['q'][0]\n",
      "\n",
      "            # Valid results are absolute URLs not pointing to a Google domain\n",
      "            # like images.google.com or googleusercontent.com\n",
      "            o = urlparse(link, 'http')\n",
      "            if o.netloc and 'google' not in o.netloc:\n",
      "                return link\n",
      "\n",
      "    # Otherwise, or on error, return None.\n",
      "    except Exception:\n",
      "        pass\n",
      "    return None"
     ],
     "language": "python",
     "metadata": {},
     "outputs": []
    },
    {
     "cell_type": "code",
     "collapsed": false,
     "input": [
      "def somefn(filename):\n",
      "    only_standard = True\n",
      "    hashes = set() ## contains a number! ##can be md5hashtoo!\n",
      "    html = open(filename,'r')\n",
      "    soup = BeautifulSoup(html,\"lxml\")\n",
      "    anchors = soup.find(id='search').findAll('a')\n",
      "\n",
      "    #current position\n",
      "    currpos = 0\n",
      "    \n",
      "    for a in anchors:\n",
      "\n",
      "        # Leave only the \"standard\" results if requested.\n",
      "        # Otherwise grab all possible links.\n",
      "        if only_standard and (\n",
      "                    not a.parent or a.parent.name.lower() != \"h3\"):\n",
      "            continue\n",
      "\n",
      "        # Get the URL from the anchor tag.\n",
      "        try:\n",
      "            link = a['href']\n",
      "        except KeyError:\n",
      "            continue\n",
      "\n",
      "        # Filter invalid links and links pointing to Google itself.\n",
      "        link = filter_result(link)\n",
      "        if not link:\n",
      "            continue\n",
      "            \n",
      "        currpos= currpos + 1\n",
      "\n",
      "        # Discard repeated results.\n",
      "        # h = hash(link)\n",
      "        # if h in hashes:\n",
      "        #    continue\n",
      "        # hashes.add(h)\n",
      "\n",
      "        # Yield the result.\n",
      "        yield link,currpos\n",
      "#for x in somefn():\n",
      "#    print x"
     ],
     "language": "python",
     "metadata": {},
     "outputs": []
    },
    {
     "cell_type": "code",
     "collapsed": false,
     "input": [
      "#def main():\n",
      "sourcefolder = 'reliance_natural_gas/ibnlive/'\n",
      "sourcename = 'IBN Live'\n",
      "sourceid = '18'\n",
      "sourcehomepage = 'ibnlive.com'\n",
      "\n",
      "\n",
      "thehidustantimes = ['/opinion/','/opinions/','/analysis/','/column/','/columns/','/editorial/','/editorials/','/blog/','/blogs/']\n",
      "thehindu = ['/op-ed/','/letter/','/letters/','/Readers-Editor/','/open-page/']\n",
      "thetimesofindia = ['/toi-edit-page/','/toi-editorials/','blog.','blogs.']\n",
      "theindianexpress= ['/letters-to-editor/']\n",
      "deccanchronicle = ['/commentary-op-ed/']\n",
      "tribune = ['/perspective/','/sunday-special/','/sunday/']\n",
      "opinion_diff = thehindu + thehidustantimes + thetimesofindia + theindianexpress + deccanchronicle + tribune\n",
      "print len(opinion_diff)\n",
      "\n",
      "\n",
      "files = os.listdir(sourcefolder)\n",
      "allindex = 1\n",
      "delimiter = ','\n",
      "hashes = set()\n",
      "header = 'index' + delimiter + 'sourceid'+ delimiter + 'pagenumber' + delimiter + 'pos_on_page';\n",
      "header = header + delimiter + 'exact_url' + delimiter + 'hash_url' + delimiter + 'opinion_section'\n",
      "tocsv = header\n",
      "#print header\n",
      "for htmlfile in files:\n",
      "    if htmlfile.find('.html')!=-1:\n",
      "        pagenumber = htmlfile[:htmlfile.find('.')]\n",
      "        pagenumber = pagenumber.strip()\n",
      "        for someurl, somepos in somefn(sourcefolder+htmlfile):\n",
      "            h = hash(someurl)\n",
      "            if h in hashes:\n",
      "                continue\n",
      "            hashes.add(h)\n",
      "            \n",
      "            opinionated = 'No'\n",
      "            for op_text in opinion_diff:\n",
      "                if (someurl.lower()).find(op_text)!=-1:\n",
      "                    opinionated = 'Yes'\n",
      "                    break\n",
      "        \n",
      "            \n",
      "            newline = str(allindex) + delimiter + sourceid+ delimiter + str(pagenumber) + delimiter + str(somepos);\n",
      "            newline = newline + delimiter + someurl + delimiter + hashlib.md5(someurl).hexdigest() + delimiter + opinionated;\n",
      "            #print newline\n",
      "            tocsv = tocsv + '\\n' + newline\n",
      "            allindex = allindex + 1\n",
      "print tocsv\n",
      "tocsvfile = open(str(sourceid)+'.csv','w')\n",
      "tocsvfile.write(tocsv)\n",
      "tocsvfile.close()"
     ],
     "language": "python",
     "metadata": {},
     "outputs": [
      {
       "output_type": "stream",
       "stream": "stdout",
       "text": [
        "23\n",
        "index,sourceid,pagenumber,pos_on_page,exact_url,hash_url,opinion_section\n",
        "1,18,1,1,http://www.ibnlive.com/news/business/government-raises-natural-gas-price-to-us-dollar-5-61-per-unit-720999.html,39df3716b5ac1dc02bf68a3b7eef59bd,No\n"
       ]
      }
     ],
     "prompt_number": 98
    },
    {
     "cell_type": "code",
     "collapsed": false,
     "input": [
      "sourcefolder = 'reliance_natural_gas/hindustan_times/'\n",
      "sourcename = 'The Hindustan Times'\n",
      "sourceid = '1'\n",
      "sourcehomepage = 'hindustantimes.com'\n",
      "typeofpaper='National Regular Daily'"
     ],
     "language": "python",
     "metadata": {},
     "outputs": []
    },
    {
     "cell_type": "code",
     "collapsed": false,
     "input": [
      "sourcefolder = 'reliance_natural_gas/the_hindu/'\n",
      "sourcename = 'The Hindu'\n",
      "sourceid = '2'\n",
      "sourcehomepage = 'http://www.thehindu.com/'\n",
      "typeofpaper='National Regular Daily'"
     ],
     "language": "python",
     "metadata": {},
     "outputs": []
    },
    {
     "cell_type": "code",
     "collapsed": false,
     "input": [
      "sourcefolder = 'reliance_natural_gas/the_economic_times/'\n",
      "sourcename = 'The Economic Times'\n",
      "sourceid = '3'\n",
      "sourcehomepage = 'economictimes.indiatimes.com'\n",
      "typeofpaper='National Financial Daily'\n",
      "##found this separately: http://blogs.economictimes.indiatimes.com/YieldCurve/what-crony-capitalism-this-modi-govt-is-taking-on-big-business/\n",
      "##doesn't cathc this: http://blogs.economictimes.indiatimes.com/cursor/governments-measures-on-diesel-gas-prices-welcome-but-insufficient/"
     ],
     "language": "python",
     "metadata": {},
     "outputs": []
    },
    {
     "cell_type": "code",
     "collapsed": false,
     "input": [
      "sourcefolder = 'reliance_natural_gas/times_of_india/'\n",
      "sourcename = 'The Times of India'\n",
      "sourceid = '4'\n",
      "sourcehomepage = 'timesofindia.indiatimes.com'\n",
      "typeofpaper='National Regular Daily'"
     ],
     "language": "python",
     "metadata": {},
     "outputs": []
    },
    {
     "cell_type": "code",
     "collapsed": false,
     "input": [
      "sourcefolder = 'reliance_natural_gas/the_indian_express//'\n",
      "sourcename = 'The Indian Express'\n",
      "sourceid = '5'\n",
      "sourcehomepage = 'indianexpress.com'\n",
      "typeofpaper='National Regular Daily'"
     ],
     "language": "python",
     "metadata": {},
     "outputs": []
    },
    {
     "cell_type": "code",
     "collapsed": false,
     "input": [
      "sourcefolder = 'reliance_natural_gas/dna/'\n",
      "sourcename = 'DNA'\n",
      "sourceid = '6'\n",
      "sourcehomepage = 'dnaindia.com'\n",
      "typeofpaper='National Regular Daily'"
     ],
     "language": "python",
     "metadata": {},
     "outputs": []
    },
    {
     "cell_type": "code",
     "collapsed": false,
     "input": [
      "sourcefolder = 'reliance_natural_gas/business_standard/'\n",
      "sourcename = 'Business Standard'\n",
      "sourceid = '7'\n",
      "sourcehomepage = 'business-standard.com'\n",
      "typeofpaper='National Financial Daily'"
     ],
     "language": "python",
     "metadata": {},
     "outputs": []
    },
    {
     "cell_type": "code",
     "collapsed": false,
     "input": [
      "sourcefolder = 'reliance_natural_gas/deccan_chronicle/'\n",
      "sourcename = 'Deccan Chronicle'\n",
      "sourceid = '8'\n",
      "sourcehomepage = 'deccanchronicle.com'\n",
      "typeofpaper='Regional Regular Daily'"
     ],
     "language": "python",
     "metadata": {},
     "outputs": []
    },
    {
     "cell_type": "code",
     "collapsed": false,
     "input": [
      "sourcefolder = 'reliance_natural_gas/telegraph/'\n",
      "sourcename = 'Telegraph'\n",
      "sourceid = '9'\n",
      "sourcehomepage = 'telegraphindia.com'\n",
      "typeofpaper='Regional Regular Daily'"
     ],
     "language": "python",
     "metadata": {},
     "outputs": []
    },
    {
     "cell_type": "code",
     "collapsed": false,
     "input": [
      "sourcefolder = 'reliance_natural_gas/pioneer/'\n",
      "sourcename = 'Daily Pioneer'\n",
      "sourceid = '10'\n",
      "sourcehomepage = 'dailypioneer.com'\n",
      "typeofpaper='Regional Regular Daily'"
     ],
     "language": "python",
     "metadata": {},
     "outputs": []
    },
    {
     "cell_type": "code",
     "collapsed": false,
     "input": [
      "sourcefolder = 'reliance_natural_gas/new_indian_express/'\n",
      "sourcename = 'New Indian Express'\n",
      "sourceid = '11'\n",
      "sourcehomepage = 'newindianexpress.com'\n",
      "typeofpaper='Regional Regular Daily'"
     ],
     "language": "python",
     "metadata": {},
     "outputs": []
    },
    {
     "cell_type": "code",
     "collapsed": false,
     "input": [
      "sourcefolder = 'reliance_natural_gas/tribuneindia/'\n",
      "sourcename = 'Tribune'\n",
      "sourceid = '12'\n",
      "sourcehomepage = 'tribuneindia.com'\n",
      "typeofpaper='Regional Regular Daily'"
     ],
     "language": "python",
     "metadata": {},
     "outputs": []
    },
    {
     "cell_type": "code",
     "collapsed": false,
     "input": [
      "sourcefolder = 'reliance_natural_gas/livemint/'\n",
      "sourcename = 'Live Mint'\n",
      "sourceid = '13'\n",
      "sourcehomepage = 'livemint.com'\n",
      "typeofpaper='Online Regular'"
     ],
     "language": "python",
     "metadata": {},
     "outputs": []
    },
    {
     "cell_type": "code",
     "collapsed": false,
     "input": [
      "sourcefolder = 'reliance_natural_gas/firstpost/'\n",
      "sourcename = 'First Post'\n",
      "sourceid = '14'\n",
      "sourcehomepage = 'firstpost.com'\n",
      "typeofpaper='Online Regular'"
     ],
     "language": "python",
     "metadata": {},
     "outputs": []
    },
    {
     "cell_type": "code",
     "collapsed": false,
     "input": [
      "sourcefolder = 'reliance_natural_gas/ndtv/'\n",
      "sourcename = 'NDTV'\n",
      "sourceid = '15'\n",
      "sourcehomepage = 'ndtv.com'\n",
      "typeofpaper='News Channel'"
     ],
     "language": "python",
     "metadata": {},
     "outputs": []
    },
    {
     "cell_type": "code",
     "collapsed": false,
     "input": [
      "sourcefolder = 'reliance_natural_gas/zeenews/'\n",
      "sourcename = 'Zee News'\n",
      "sourceid = '16'\n",
      "sourcehomepage = 'zeenews.com'\n",
      "typeofpaper='News Channel'"
     ],
     "language": "python",
     "metadata": {},
     "outputs": []
    },
    {
     "cell_type": "code",
     "collapsed": false,
     "input": [
      "sourcefolder = 'reliance_natural_gas/moneycontrol/'\n",
      "sourcename = 'Money Control'\n",
      "sourceid = '17'\n",
      "sourcehomepage = 'moneycontrol.com'\n",
      "typeofpaper='Online Financial'"
     ],
     "language": "python",
     "metadata": {},
     "outputs": []
    },
    {
     "cell_type": "code",
     "collapsed": false,
     "input": [
      "sourcefolder = 'reliance_natural_gas/ibnlive/'\n",
      "sourcename = 'IBN Live'\n",
      "sourceid = '18'\n",
      "sourcehomepage = 'ibnlive.com'\n",
      "typeofpaper='News Channel'"
     ],
     "language": "python",
     "metadata": {},
     "outputs": []
    }
   ],
   "metadata": {}
  }
 ]
}