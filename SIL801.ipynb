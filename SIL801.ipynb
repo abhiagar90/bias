{
 "metadata": {
  "name": "",
  "signature": "sha256:fd40af0dd5d27f3e51a9c9d7c404435b182cfa47eeeafb4f01f064185b853770"
 },
 "nbformat": 3,
 "nbformat_minor": 0,
 "worksheets": [
  {
   "cells": [
    {
     "cell_type": "code",
     "collapsed": false,
     "input": [
      "##\n",
      "# all queries are being run on : allintext: (Reliance  AND Industries) AND natural gas AND price site:www.hindustantimes.com/\n",
      "# also, daterange is from jan 2013 to dec 2014\n",
      "##"
     ],
     "language": "python",
     "metadata": {},
     "outputs": []
    },
    {
     "cell_type": "code",
     "collapsed": false,
     "input": [
      "from bs4 import BeautifulSoup\n",
      "import os\n",
      "import sys\n",
      "import hashlib\n",
      "\n",
      "if sys.version_info[0] > 2:\n",
      "    from urllib.parse import urlparse, parse_qs\n",
      "else:\n",
      "    from urlparse import urlparse, parse_qs"
     ],
     "language": "python",
     "metadata": {},
     "outputs": []
    },
    {
     "cell_type": "code",
     "collapsed": false,
     "input": [
      "# Filter links found in the Google result pages HTML code.\n",
      "# Returns None if the link doesn't yield a valid result.\n",
      "def filter_result(link):\n",
      "    try:\n",
      "\n",
      "        # Valid results are absolute URLs not pointing to a Google domain\n",
      "        # like images.google.com or googleusercontent.com\n",
      "        o = urlparse(link, 'http')\n",
      "        if o.netloc and 'google' not in o.netloc:\n",
      "            return link\n",
      "\n",
      "        # Decode hidden URLs.\n",
      "        if link.startswith('/url?'):\n",
      "            link = parse_qs(o.query)['q'][0]\n",
      "\n",
      "            # Valid results are absolute URLs not pointing to a Google domain\n",
      "            # like images.google.com or googleusercontent.com\n",
      "            o = urlparse(link, 'http')\n",
      "            if o.netloc and 'google' not in o.netloc:\n",
      "                return link\n",
      "\n",
      "    # Otherwise, or on error, return None.\n",
      "    except Exception:\n",
      "        pass\n",
      "    return None"
     ],
     "language": "python",
     "metadata": {},
     "outputs": []
    },
    {
     "cell_type": "code",
     "collapsed": false,
     "input": [
      "def somefn(filename):\n",
      "    only_standard = True\n",
      "    hashes = set() ## contains a number! ##can be md5hashtoo!\n",
      "    html = open(filename,'r')\n",
      "    soup = BeautifulSoup(html,\"lxml\")\n",
      "    anchors = soup.find(id='search').findAll('a')\n",
      "\n",
      "    #current position\n",
      "    currpos = 0\n",
      "    \n",
      "    for a in anchors:\n",
      "\n",
      "        # Leave only the \"standard\" results if requested.\n",
      "        # Otherwise grab all possible links.\n",
      "        if only_standard and (\n",
      "                    not a.parent or a.parent.name.lower() != \"h3\"):\n",
      "            continue\n",
      "\n",
      "        # Get the URL from the anchor tag.\n",
      "        try:\n",
      "            link = a['href']\n",
      "        except KeyError:\n",
      "            continue\n",
      "\n",
      "        # Filter invalid links and links pointing to Google itself.\n",
      "        link = filter_result(link)\n",
      "        if not link:\n",
      "            continue\n",
      "            \n",
      "        currpos= currpos + 1\n",
      "\n",
      "        # Discard repeated results.\n",
      "        # h = hash(link)\n",
      "        # if h in hashes:\n",
      "        #    continue\n",
      "        # hashes.add(h)\n",
      "\n",
      "        # Yield the result.\n",
      "        yield link,currpos\n",
      "#for x in somefn():\n",
      "#    print x"
     ],
     "language": "python",
     "metadata": {},
     "outputs": []
    },
    {
     "cell_type": "code",
     "collapsed": false,
     "input": [
      "#def main():\n",
      "sourcefolder = 'reliance_natural_gas/moneycontrol/'\n",
      "sourcename = 'Money Control'\n",
      "sourceid = '17'\n",
      "sourcehomepage = 'moneycontrol.com'\n",
      "\n",
      "\n",
      "thehidustantimes = ['/opinion/','/opinions/','/analysis/','/column/','/columns/','/editorial/','/editorials/','/blog/','/blogs/']\n",
      "thehindu = ['/op-ed/','/letter/','/letters/','/Readers-Editor/','/open-page/']\n",
      "thetimesofindia = ['/toi-edit-page/','/toi-editorials/','blog.','blogs.']\n",
      "theindianexpress= ['/letters-to-editor/']\n",
      "deccanchronicle = ['/commentary-op-ed/']\n",
      "tribune = ['/perspective/','/sunday-special/','/sunday/']\n",
      "opinion_diff = thehindu + thehidustantimes + thetimesofindia + theindianexpress + deccanchronicle + tribune\n",
      "print len(opinion_diff)\n",
      "\n",
      "\n",
      "files = os.listdir(sourcefolder)\n",
      "allindex = 1\n",
      "delimiter = ','\n",
      "hashes = set()\n",
      "header = 'index' + delimiter + 'sourceid'+ delimiter + 'pagenumber' + delimiter + 'pos_on_page';\n",
      "header = header + delimiter + 'exact_url' + delimiter + 'hash_url' + delimiter + 'opinion_section'\n",
      "tocsv = header\n",
      "#print header\n",
      "for htmlfile in files:\n",
      "    if htmlfile.find('.html')!=-1:\n",
      "        pagenumber = htmlfile[:htmlfile.find('.')]\n",
      "        pagenumber = pagenumber.strip()\n",
      "        for someurl, somepos in somefn(sourcefolder+htmlfile):\n",
      "            h = hash(someurl)\n",
      "            if h in hashes:\n",
      "                continue\n",
      "            hashes.add(h)\n",
      "            \n",
      "            opinionated = 'No'\n",
      "            for op_text in opinion_diff:\n",
      "                if (someurl.lower()).find(op_text)!=-1:\n",
      "                    opinionated = 'Yes'\n",
      "                    break\n",
      "        \n",
      "            \n",
      "            newline = str(allindex) + delimiter + sourceid+ delimiter + str(pagenumber) + delimiter + str(somepos);\n",
      "            newline = newline + delimiter + someurl + delimiter + hashlib.md5(someurl).hexdigest() + delimiter + opinionated;\n",
      "            #print newline\n",
      "            tocsv = tocsv + '\\n' + newline\n",
      "            allindex = allindex + 1\n",
      "print tocsv\n",
      "tocsvfile = open(str(sourceid)+'.csv','w')\n",
      "tocsvfile.write(tocsv)\n",
      "tocsvfile.close()"
     ],
     "language": "python",
     "metadata": {},
     "outputs": [
      {
       "output_type": "stream",
       "stream": "stdout",
       "text": [
        "23\n",
        "index,sourceid,pagenumber,pos_on_page,exact_url,hash_url,opinion_section\n",
        "1,17,1,1,http://www.moneycontrol.com/news/stocks-views/ongc-to-benefit-moregas-price-hike-edelweiss_1207557.html,7f23fd9c26acce5390d876f3ded54c07,No\n",
        "2,17,1,2,http://www.moneycontrol.com/news/market-outlook/market-awaiting-gas-price-hike-bullishongc-antique_1183361.html,a3ced557fcf353d0d5a2b07956d709ab,No\n",
        "3,17,1,3,http://www.moneycontrol.com/news/business/how-gas-price-hike-may-impact-ril-ongc-gail-oil-earnings_907438.html,2a1d55b3f93b6570f9f7794cdb4b05e8,No\n",
        "4,17,1,4,http://www.moneycontrol.com/news/business/uncertainty-reigns-as-gas-price-hike-date-nears_1056840.html,11ea732bf6a08e92818b93b6eab064ee,No\n",
        "5,17,1,5,http://www.moneycontrol.com/news/business/ril-serves-arbitration-notice-to-govtgas-pricing-issue_1083279.html,3b6e1c1d761bcbe7f0ad73e7363d8291,No\n",
        "6,17,1,6,http://www.moneycontrol.com/news/brokerage-recos-sector-report/icicidirect-recommends-to-buy-oil-ongcoilgas-space_1112998.html,4c974d8e9b75163641a94f7ef2c13851,No\n",
        "7,17,1,7,http://www.moneycontrol.com/news/business/oil-min-frustrated-kg-gas-project-ongc_1167774.html,c7bb7ad2deac43e4d883d9b04107088d,No\n",
        "8,17,1,8,http://www.moneycontrol.com/news/brokerage-results-estimates/expect-reliance-to-report-flattish-q-o-q-growth-religare_1201888.html,b7302312b454e1c61b2b867d16e92140,No\n",
        "9,17,1,9,http://www.moneycontrol.com/news/stocks-views/buy-ongc-reliance-industries-sudarshan-sukhani_1165214.html,2407738382963e23c4368323115e4b94,No\n",
        "10,17,1,10,http://www.moneycontrol.com/news/business/some-gas-exploration-not-viable-even-at-new-price-ongc_1050808.html,e1ce4d532b450109edd8ca527ed3d74c,No\n",
        "11,17,2,1,http://www.moneycontrol.com/news/market-edge/how-reliance-moves-before-onone-week-after-agm_893619.html,f0f40fae1328cdaca37f83ddebaea07a,No\n",
        "12,17,2,2,http://www.moneycontrol.com/news/business/ongc-oil-output-jumps-10-percent_1212221.html,36d96b747ea55359b24760144c0308c4,No\n",
        "13,17,2,3,http://www.moneycontrol.com/news/economy/ongc-finalises-gas-sales-at-usd-1010-1120-pradhan_1238361.html,69508593b5322490402b444205b9ffd4,No\n",
        "14,17,2,4,http://www.moneycontrol.com/news/cnbc-tv18-comments/oncg-versus-reliance-battle-reaches-delhi-high-court_1086775.html,894d4eeb6e19c486f9694390d4e257e1,No\n",
        "15,17,2,5,http://www.moneycontrol.com/news/results/ongc-net-drops-10oil-price-slump_1229408.html,20e64c7230c9239dcfe02107498831ca,No\n",
        "16,17,2,6,http://www.moneycontrol.com/news/economy/gas-prices-may-jump-to-36102016-173642-now_1012989.html,afeacef438ce28a7ee97045309dca18e,No\n",
        "17,17,2,7,http://www.moneycontrol.com/news/business/higher-gas-price-for-ril-good-newsunfortunate-taneja_1011349.html,2e88b22eec80b131e8d026cfb139075c,No\n",
        "18,17,2,8,http://www.moneycontrol.com/news/results/ril-q1-net137-to-rs-5957-cr-beats-analyst-estimates_1132080.html,b77a43fffc64b0ff41aff8cf23b093cc,No\n",
        "19,17,2,9,http://www.moneycontrol.com/news/business/ongc-jumps-gun-announces-videocon-deal-before-it-is-due_894746.html,04ee4f934f9ae52b31a17f351190b8bb,No\n",
        "20,17,2,10,http://www.moneycontrol.com/news/market-outlook/arbitrary-gas-price366-65-seen-buy-ongc-oil-ambit_1187269.html,af50a4ab8fe9d8f91dc104f710771d86,No\n",
        "21,17,4,1,http://www.moneycontrol.com/news/stocks-views/gas-price-hike-put-off-how-to-play-ongc-ril-now_1057160.html,b59fead6a2f60d652e0e7990839b65fa,No\n",
        "22,17,4,2,http://www.moneycontrol.com/news/business/ongc-disinvestment-roadshowsnovember-17_1221175.html,ebfe2bb853e7d1532df2102496756e09,No\n",
        "23,17,4,3,http://www.moneycontrol.com/news/business/bidding-shale-gas-blocks-not-yet-viable-delloitte-india_956076.html,d326c9ee771af9516606cdcc19ddb6ec,No\n",
        "24,17,4,4,http://www.moneycontrol.com/news/business/ongc-targets-to-start-production-by-mid-2018kg-d5_1241901.html,f208ab5583acfe6a47576c2d287b9988,No\n",
        "25,17,4,5,http://www.moneycontrol.com/news/business/gas-price-hike-to-benefit-ongc-oil-india-more-ril-to-sc_1052684.html,01a2b128357e340654d9f00c6481512e,No\n",
        "26,17,4,6,http://www.moneycontrol.com/news/business/bp-chief-dudley-mukesh-ambani-meet-veerappa-moily_972479.html,c2d08fbe64091e3a1091f4466b4af15f,No\n",
        "27,17,4,7,http://www.moneycontrol.com/news/results/ongcs-q4-net-down-39higher-expense_884211.html,239da20415b56589aa10347f606da32f,No\n",
        "28,17,4,8,http://www.moneycontrol.com/news/market-outlook/refining-petrochemicals-key-drivers-for-reliance-iifl_1052631.html,7ec1b13b577a269cde5beda67ba82635,No\n",
        "29,17,4,9,http://www.moneycontrol.com/news/business/ongc-opposes-govt-stake-sale-before-issuesresolved_1129820.html,3491e95c9f69c1e60f60a59617f1726b,No\n",
        "30,17,4,10,http://www.moneycontrol.com/news/commodities/global-gold-price-to-hover-near-361300-1325oz-fat-prophets_964671.html,9086c064e3383051b2a60abddb9829d9,No\n",
        "31,17,5,1,http://www.moneycontrol.com/news/fii-view/deferring-gas-price-hike-bigger-negative-than-coal-order_1188131.html,8ddfc371c85aeb95598df833f29189cb,No\n",
        "32,17,5,2,http://www.moneycontrol.com/news/stocks-views/see-lower-levelsongc-reliance-industries-sukhani_903116.html,6f83957af2325876e4e981aad6e4da09,No\n",
        "33,17,5,3,http://www.moneycontrol.com/news/stocks-views/reliance-industries-long-term-bet-manish-sonthalia_1112443.html,3dbd743bdb826fa1181b4def190118c9,No\n",
        "34,17,5,4,http://www.moneycontrol.com/news/business/sc-to-resume-hearingkg-d6-gas-casetuesday_1070472.html,db8dd00fd3a6db46b84b8b2279c6f658,No\n",
        "35,17,5,5,http://www.moneycontrol.com/news/business/mukesh-ambanis-rgtil-wins-licence-for-shahdol-phulpur-line_917793.html,8be4f9e3b83158fb142c3c458ed8a9f9,No\n",
        "36,17,5,6,http://www.moneycontrol.com/news/stocks-views/sudarshan-sukhani-upbeatongc-reliance-industries_1185197.html,e3c75f9c9aa4ae210148fa239a8d94a4,No\n",
        "37,17,5,7,http://www.moneycontrol.com/news/business/govt-panel-to-probe-delayongc-kg-basin-gas-discovery_1195873.html,d4d05e55553b1aa7ad16f8eecdbdd40c,No\n",
        "38,17,5,8,http://www.moneycontrol.com/news/result-analysis/heres-how-experts-read-reliance-inds-q2-results_1202376.html,7cee1b359e557c8ee66528a3f5e35273,No\n",
        "39,17,5,9,http://www.moneycontrol.com/news/business/govt-may-revise-ongcs-subsidy-sharing-structure-oilmin_1243923.html,bce1da834f51487e44316d35de3615a5,No\n",
        "40,17,5,10,http://www.moneycontrol.com/news/business/govt-move-to-stop-gas-arbitrary-unfair-deepak-fertilisers_1086866.html,3dcda4320e8b10dbe91769141cea9428,No\n",
        "41,17,3,1,http://www.moneycontrol.com/news/results/ril-q3-net-flatweak-refining-margin-higher-input-costs_1026673.html,48efd4e7edab2cd4e58a421858155b96,No\n",
        "42,17,3,2,http://www.moneycontrol.com/news/business/gas-price-policy-whypower-fertiliser-cos-against-it_868063.html,05a0ffe135f82c17b5199880e27a06da,No\n",
        "43,17,3,3,http://www.moneycontrol.com/news/local-markets/sensex-scores-triple-centurygovt-reforms-ongc5_1207952.html,b3d876c3b89e858aadd969a3d767586e,No\n",
        "44,17,3,4,http://www.moneycontrol.com/news/business/dgh-rejects-ongcs-three-kg-gas-discoveries_1144842.html,3388ac9a5b7d870430d42ee793783fed,No\n",
        "45,17,3,5,http://www.moneycontrol.com/news/business/bp-disappointedindia-due-to-delaygas-price-hike_1106498.html,1ea310d9bac476da0c463d74b64fe151,No\n",
        "46,17,3,6,http://www.moneycontrol.com/news/business/ril-kg-d6-gas-output-drops-to-fresh-low-below-15-mmscmd_886900.html,959cc3406c5ae650c39c3541271f18c0,No\n",
        "47,17,3,7,http://www.moneycontrol.com/news/business/ril-fires-fresh-salvo-at-ongc-denies-gas-theft-allegation_1092156.html,5b69c0485aac6001726130e20ca265cb,No\n",
        "48,17,3,8,http://www.moneycontrol.com/news/market-outlook/gas-price-hike-will-benefit-ongc-oil-india-ril-antique_1011630.html,dcefd0c10cf9fdf8f5e3cf05d6b32304,No\n",
        "49,17,3,9,http://www.moneycontrol.com/news/business/forbes-india-rich-list-mukesh-ambani-tops-adani-moves-up_1188269.html,2c285e4b34b878c693d6aefc077d39cf,No\n",
        "50,17,3,10,http://www.moneycontrol.com/news/results/ril-q4-net2-at-rs-5631-cr-grm-rises-22-to-3693bbl_1070747.html,f44edbc774d8bb2f3f56c04ddea38b23,No"
       ]
      },
      {
       "output_type": "stream",
       "stream": "stdout",
       "text": [
        "\n"
       ]
      }
     ],
     "prompt_number": 97
    },
    {
     "cell_type": "code",
     "collapsed": false,
     "input": [
      "sourcefolder = 'reliance_natural_gas/hindustan_times/'\n",
      "sourcename = 'The Hindustan Times'\n",
      "sourceid = '1'\n",
      "sourcehomepage = 'http://www.hindustantimes.com/'\n",
      "national='Yes'"
     ],
     "language": "python",
     "metadata": {},
     "outputs": []
    },
    {
     "cell_type": "code",
     "collapsed": false,
     "input": [
      "sourcefolder = 'reliance_natural_gas/the_hindu/'\n",
      "sourcename = 'The Hindu'\n",
      "sourceid = '2'\n",
      "sourcehomepage = 'http://www.thehindu.com/'\n",
      "national='Yes'"
     ],
     "language": "python",
     "metadata": {},
     "outputs": []
    },
    {
     "cell_type": "code",
     "collapsed": false,
     "input": [
      "sourcefolder = 'reliance_natural_gas/the_economic_times/'\n",
      "sourcename = 'The Economic Times'\n",
      "sourceid = '3'\n",
      "sourcehomepage = 'economictimes.indiatimes.com'\n",
      "national='Yes'\n",
      "##found this separately: http://blogs.economictimes.indiatimes.com/YieldCurve/what-crony-capitalism-this-modi-govt-is-taking-on-big-business/\n",
      "##doesn't cathc this: http://blogs.economictimes.indiatimes.com/cursor/governments-measures-on-diesel-gas-prices-welcome-but-insufficient/"
     ],
     "language": "python",
     "metadata": {},
     "outputs": []
    },
    {
     "cell_type": "code",
     "collapsed": false,
     "input": [
      "sourcefolder = 'reliance_natural_gas/times_of_india/'\n",
      "sourcename = 'The Times of India'\n",
      "sourceid = '4'\n",
      "sourcehomepage = 'timesofindia.indiatimes.com'\n",
      "national='Yes'"
     ],
     "language": "python",
     "metadata": {},
     "outputs": []
    },
    {
     "cell_type": "code",
     "collapsed": false,
     "input": [
      "sourcefolder = 'reliance_natural_gas/the_indian_express//'\n",
      "sourcename = 'The Indian Express'\n",
      "sourceid = '5'\n",
      "sourcehomepage = 'indianexpress.com'\n",
      "national='Yes'"
     ],
     "language": "python",
     "metadata": {},
     "outputs": []
    },
    {
     "cell_type": "code",
     "collapsed": false,
     "input": [
      "sourcefolder = 'reliance_natural_gas/dna/'\n",
      "sourcename = 'DNA'\n",
      "sourceid = '6'\n",
      "sourcehomepage = 'dnaindia.com'\n",
      "national='Yes'"
     ],
     "language": "python",
     "metadata": {},
     "outputs": []
    },
    {
     "cell_type": "code",
     "collapsed": false,
     "input": [
      "sourcefolder = 'reliance_natural_gas/business_standard/'\n",
      "sourcename = 'Business Standard'\n",
      "sourceid = '7'\n",
      "sourcehomepage = 'business-standard.com'"
     ],
     "language": "python",
     "metadata": {},
     "outputs": []
    },
    {
     "cell_type": "code",
     "collapsed": false,
     "input": [
      "sourcefolder = 'reliance_natural_gas/deccan_chronicle/'\n",
      "sourcename = 'Deccan Chronicle'\n",
      "sourceid = '8'\n",
      "sourcehomepage = 'deccanchronicle.com'"
     ],
     "language": "python",
     "metadata": {},
     "outputs": []
    },
    {
     "cell_type": "code",
     "collapsed": false,
     "input": [
      "sourcefolder = 'reliance_natural_gas/telegraph/'\n",
      "sourcename = 'Telegraph'\n",
      "sourceid = '9'\n",
      "sourcehomepage = 'telegraphindia.com'"
     ],
     "language": "python",
     "metadata": {},
     "outputs": []
    },
    {
     "cell_type": "code",
     "collapsed": false,
     "input": [
      "sourcefolder = 'reliance_natural_gas/pioneer/'\n",
      "sourcename = 'Daily Pioneer'\n",
      "sourceid = '10'\n",
      "sourcehomepage = 'dailypioneer.com'"
     ],
     "language": "python",
     "metadata": {},
     "outputs": []
    },
    {
     "cell_type": "code",
     "collapsed": false,
     "input": [
      "sourcefolder = 'reliance_natural_gas/new_indian_express/'\n",
      "sourcename = 'New Indian Express'\n",
      "sourceid = '11'\n",
      "sourcehomepage = 'newindianexpress.com'"
     ],
     "language": "python",
     "metadata": {},
     "outputs": []
    },
    {
     "cell_type": "code",
     "collapsed": false,
     "input": [
      "sourcefolder = 'reliance_natural_gas/tribuneindia/'\n",
      "sourcename = 'Tribune'\n",
      "sourceid = '12'\n",
      "sourcehomepage = 'tribuneindia.com'"
     ],
     "language": "python",
     "metadata": {},
     "outputs": []
    },
    {
     "cell_type": "code",
     "collapsed": false,
     "input": [
      "sourcefolder = 'reliance_natural_gas/livemint/'\n",
      "sourcename = 'Live Mint'\n",
      "sourceid = '13'\n",
      "sourcehomepage = 'livemint.com'"
     ],
     "language": "python",
     "metadata": {},
     "outputs": []
    },
    {
     "cell_type": "code",
     "collapsed": false,
     "input": [
      "sourcefolder = 'reliance_natural_gas/firstpost/'\n",
      "sourcename = 'First Post'\n",
      "sourceid = '14'\n",
      "sourcehomepage = 'firstpost.com'"
     ],
     "language": "python",
     "metadata": {},
     "outputs": []
    },
    {
     "cell_type": "code",
     "collapsed": false,
     "input": [
      "sourcefolder = 'reliance_natural_gas/ndtv/'\n",
      "sourcename = 'First Post'\n",
      "sourceid = '15'\n",
      "sourcehomepage = 'ndtv.com'"
     ],
     "language": "python",
     "metadata": {},
     "outputs": []
    },
    {
     "cell_type": "code",
     "collapsed": false,
     "input": [
      "sourcefolder = 'reliance_natural_gas/zeenews/'\n",
      "sourcename = 'Zee News'\n",
      "sourceid = '16'\n",
      "sourcehomepage = 'zeenews.com'"
     ],
     "language": "python",
     "metadata": {},
     "outputs": []
    },
    {
     "cell_type": "code",
     "collapsed": false,
     "input": [
      "sourcefolder = 'reliance_natural_gas/moneycontrol/'\n",
      "sourcename = 'Money Control'\n",
      "sourceid = '17'\n",
      "sourcehomepage = 'moneycontrol.com'"
     ],
     "language": "python",
     "metadata": {},
     "outputs": []
    },
    {
     "cell_type": "code",
     "collapsed": false,
     "input": [
      "sourcefolder = 'reliance_natural_gas//'\n",
      "sourcename = 'IBN Live'\n",
      "sourceid = '18'\n",
      "sourcehomepage = 'ibnlive.com'"
     ],
     "language": "python",
     "metadata": {},
     "outputs": []
    }
   ],
   "metadata": {}
  }
 ]
}