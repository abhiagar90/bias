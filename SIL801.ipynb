{
 "metadata": {
  "name": "",
  "signature": "sha256:fd40af0dd5d27f3e51a9c9d7c404435b182cfa47eeeafb4f01f064185b853770"
 },
 "nbformat": 3,
 "nbformat_minor": 0,
 "worksheets": [
  {
   "cells": [
    {
     "cell_type": "code",
     "collapsed": false,
     "input": [
      "from bs4 import BeautifulSoup\n",
      "import os\n",
      "import sys\n",
      "\n",
      "import time\n",
      "\n",
      "if sys.version_info[0] > 2:\n",
      "    from http.cookiejar import LWPCookieJar\n",
      "    from urllib.request import Request, urlopen\n",
      "    from urllib.parse import quote_plus, urlparse, parse_qs\n",
      "else:\n",
      "    from cookielib import LWPCookieJar\n",
      "    from urllib import quote_plus\n",
      "    from urllib2 import Request, urlopen\n",
      "    from urlparse import urlparse, parse_qs"
     ],
     "language": "python",
     "metadata": {},
     "outputs": [],
     "prompt_number": 3
    },
    {
     "cell_type": "code",
     "collapsed": false,
     "input": [
      "## to use googleseatrch api!\n",
      "from googlesearch import GoogleSearch\n",
      "gs = GoogleSearch('smriti irani rohit daterange:2457420-2457446 site:http://www.hindustantimes.com')\n",
      "for url in gs.top_urls():\n",
      "    print url"
     ],
     "language": "python",
     "metadata": {},
     "outputs": [
      {
       "output_type": "stream",
       "stream": "stdout",
       "text": [
        "http://www.hindustantimes.com/india/watch-smriti-irani-take-on-rahul-gandhi-over-rohith-vemula-suicide-issue/story-GjmdEXLSZH4MtfDFSrVaUN.html\n",
        "http://www.hindustantimes.com/india/rohith-vemula-suicide-duty-doctor-challenges-hrd-min-irani-s-claim/story-tKW57fjjzAY9ZSk1to3POO.html\n",
        "http://www.hindustantimes.com/bollywood/smriti-irani-s-speech-in-lok-sabha-an-actor-s-tips-to-the-minister/story-9MbRRRrj18KlHOElYzEeQK.html\n",
        "http://www.hindustantimes.com/analysis/a-lesson-in-rohith-vemula-s-death-india-is-shackled-to-caste/story-Vpy0zwt2B8CeNVNqngTc1K.html\n"
       ]
      }
     ],
     "prompt_number": 4
    },
    {
     "cell_type": "code",
     "collapsed": false,
     "input": [
      "# Filter links found in the Google result pages HTML code.\n",
      "# Returns None if the link doesn't yield a valid result.\n",
      "def filter_result(link):\n",
      "    try:\n",
      "\n",
      "        # Valid results are absolute URLs not pointing to a Google domain\n",
      "        # like images.google.com or googleusercontent.com\n",
      "        o = urlparse(link, 'http')\n",
      "        if o.netloc and 'google' not in o.netloc:\n",
      "            return link\n",
      "\n",
      "        # Decode hidden URLs.\n",
      "        if link.startswith('/url?'):\n",
      "            link = parse_qs(o.query)['q'][0]\n",
      "\n",
      "            # Valid results are absolute URLs not pointing to a Google domain\n",
      "            # like images.google.com or googleusercontent.com\n",
      "            o = urlparse(link, 'http')\n",
      "            if o.netloc and 'google' not in o.netloc:\n",
      "                return link\n",
      "\n",
      "    # Otherwise, or on error, return None.\n",
      "    except Exception:\n",
      "        pass\n",
      "    return None"
     ],
     "language": "python",
     "metadata": {},
     "outputs": [],
     "prompt_number": 1
    },
    {
     "cell_type": "code",
     "collapsed": false,
     "input": [
      "hashes = set()\n",
      "def somefn():\n",
      "    only_standard = True\n",
      "    #hashes = set()\n",
      "    html = open('temp_html/2.html','r')\n",
      "    soup = BeautifulSoup(html)\n",
      "    anchors = soup.find(id='search').findAll('a')\n",
      "\n",
      "    #no. of urls in current page\n",
      "    curr = 0\n",
      "    for a in anchors:\n",
      "\n",
      "        # Leave only the \"standard\" results if requested.\n",
      "        # Otherwise grab all possible links.\n",
      "        if only_standard and (\n",
      "                    not a.parent or a.parent.name.lower() != \"h3\"):\n",
      "            continue\n",
      "\n",
      "        # Get the URL from the anchor tag.\n",
      "        try:\n",
      "            link = a['href']\n",
      "        except KeyError:\n",
      "            continue\n",
      "\n",
      "        # Filter invalid links and links pointing to Google itself.\n",
      "        link = filter_result(link)\n",
      "        if not link:\n",
      "            continue\n",
      "\n",
      "        # Discard repeated results.\n",
      "        h = hash(link)\n",
      "        if h in hashes:\n",
      "            continue\n",
      "        hashes.add(h)\n",
      "        curr=curr+1\n",
      "        print curr,\n",
      "\n",
      "        # Yield the result.\n",
      "        yield link\n",
      "for x in somefn():\n",
      "    print x\n",
      "for x in hashes:\n",
      "    print x"
     ],
     "language": "python",
     "metadata": {},
     "outputs": [
      {
       "output_type": "stream",
       "stream": "stdout",
       "text": [
        "1 http://www.hindustantimes.com/india/rohith-vemula-suicide-duty-doctor-challenges-hrd-min-irani-s-claim/story-tKW57fjjzAY9ZSk1to3POO.html\n",
        "2 http://www.hindustantimes.com/bollywood/smriti-irani-s-speech-in-lok-sabha-an-actor-s-tips-to-the-minister/story-9MbRRRrj18KlHOElYzEeQK.html\n",
        "3 http://www.hindustantimes.com/india/rohith-vemula-s-death-is-not-a-matter-of-caste-battle-smriti-irani/story-JmZxLevxNiXwQz9FXAYaEN.html\n",
        "4 http://www.hindustantimes.com/india/nitish-kumar-lalu-back-jnu-s-kanhaiya-dismiss-sedition-charge/story-48XARnXDD7eWgld0QjE25O.html\n",
        "5 http://www.hindustantimes.com/columns/depression-or-dalit-what-s-the-bigger-factor-behind-rohith-s-suicide/story-q2BuU7LZTxChdxhGLeOY8N.html\n",
        "6 http://www.hindustantimes.com/india/rohith-s-suicide-uoh-acting-v-c-says-students-ready-to-allow-classes/story-ARMKC20TbDNeXgU7qO8xNP.html\n",
        "7 http://www.hindustantimes.com/india/watch-delhi-cops-beat-students-protesting-rohith-vemula-s-death/story-xRVFUn9b52lSKyGZqgcE4M.html\n",
        "8 http://www.hindustantimes.com/analysis/a-lesson-in-rohith-vemula-s-death-india-is-shackled-to-caste/story-Vpy0zwt2B8CeNVNqngTc1K.html\n",
        "9 http://www.hindustantimes.com/india/strict-action-for-anti-india-slogans-rajnath-singh-on-jnu-students/story-B1yAh12aNpKdmGLCe3UbHJ.html\n",
        "10 http://www.hindustantimes.com/india/is-this-anti-india-read-full-text-of-jnu-leader-kanhaiya-s-speech/story-rlhVQ9XVALS3Oc5h1UCOmK.html\n",
        "3087145074062056160\n",
        "4179280267412832773\n",
        "9126003954906304759\n",
        "664233322322548111\n",
        "-1259782789422316777\n",
        "-5833131908612612675\n",
        "695499313932803034\n",
        "-6598928994227430790\n",
        "7500018565875396702\n",
        "-4384460498423072801\n"
       ]
      }
     ],
     "prompt_number": 5
    }
   ],
   "metadata": {}
  }
 ]
}